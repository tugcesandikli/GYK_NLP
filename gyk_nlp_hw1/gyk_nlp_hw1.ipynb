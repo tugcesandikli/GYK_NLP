{
  "nbformat": 4,
  "nbformat_minor": 0,
  "metadata": {
    "colab": {
      "provenance": []
    },
    "kernelspec": {
      "name": "python3",
      "display_name": "Python 3"
    },
    "language_info": {
      "name": "python"
    }
  },
  "cells": [
    {
      "cell_type": "code",
      "execution_count": null,
      "metadata": {
        "id": "X6u4bAmI-VCS"
      },
      "outputs": [],
      "source": [
        "import nltk\n",
        "import string\n",
        "import pandas as pd\n",
        "from sklearn.feature_extraction.text import TfidfVectorizer\n",
        "from nltk.corpus import stopwords\n",
        "from nltk.stem import WordNetLemmatizer\n",
        "from nltk.tokenize import word_tokenize\n",
        "\n",
        "corpus = [\n",
        "    \"Artificial Intelligence is the future.\",\n",
        "    \"AI is changing the world.\",\n",
        "    \"AI is a branch of computer science.\",\n",
        "    \"Machine learning is a subfield of AI.\",\n",
        "    \"AI can improve healthcare.\",\n",
        "    \"Robots powered by AI can help in factories.\",\n",
        "    \"Ethics in AI is a growing concern.\",\n",
        "    \"AI and humans can work together.\",\n",
        "    \"AI is transforming education.\",\n",
        "    \"We must understand AI deeply.\"\n",
        "]\n",
        "\n",
        "def nlp_pipeline_to_df(corpus):\n",
        "    lemmatizer = WordNetLemmatizer()\n",
        "    stop_words = set(stopwords.words('english'))\n",
        "    cleaned_corpus = []\n",
        "\n",
        "    for sentence in corpus:\n",
        "        tokens = word_tokenize(sentence.lower())\n",
        "        tokens = [word for word in tokens if word not in stop_words and word not in string.punctuation]\n",
        "        lemmatized = [lemmatizer.lemmatize(word) for word in tokens]\n",
        "        cleaned_sentence = \" \".join(lemmatized)\n",
        "        cleaned_corpus.append(cleaned_sentence)\n",
        "\n",
        "    vectorizer = TfidfVectorizer()\n",
        "    X = vectorizer.fit_transform(cleaned_corpus)\n",
        "    df = pd.DataFrame(X.toarray(), columns=vectorizer.get_feature_names_out())\n",
        "    return df\n",
        "\n",
        "df_tfidf = nlp_pipeline_to_df(corpus)\n",
        "\n",
        "print(df_tfidf.head(10))"
      ]
    }
  ]
}